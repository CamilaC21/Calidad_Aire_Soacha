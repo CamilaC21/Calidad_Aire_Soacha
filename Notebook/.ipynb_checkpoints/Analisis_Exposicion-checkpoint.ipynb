{
 "cells": [
  {
   "cell_type": "markdown",
   "id": "62c3f9a5-bbdc-4cc6-8e12-ac6f231a9cf9",
   "metadata": {},
   "source": [
    "# **Análisis de exposición por contaminación atmosférica**   \n",
    "En este notebook se realiza el análisis de exposición por contaminación atmosferica, teniendo como insumo el mapa de uso de suelos del municipio de Soacha.   \n",
    "Se clasifica la exposición en baja, moderada y alta."
   ]
  },
  {
   "cell_type": "markdown",
   "id": "88369a81-02ca-44dc-baba-6a2540f1b271",
   "metadata": {},
   "source": [
    "Inicialmente se importan las librerias"
   ]
  },
  {
   "cell_type": "code",
   "execution_count": 30,
   "id": "ca4974e2-fee9-4699-ac91-d5997796c3e0",
   "metadata": {},
   "outputs": [],
   "source": [
    "import os\n",
    "import rasterio\n",
    "import numpy as np\n",
    "import geopandas as gpd\n",
    "from rasterio.transform import from_bounds\n",
    "from rasterio.features import rasterize\n",
    "import matplotlib.pyplot as plt\n",
    "from matplotlib.colors import ListedColormap"
   ]
  },
  {
   "cell_type": "markdown",
   "id": "405fc841-b2a5-443f-9315-e7e2dbf03538",
   "metadata": {},
   "source": [
    "**Preparación de datos**   \n",
    "En la siguiente celda se lleva a cabo el cargue y preparación de la información a necesitar en el transcurso del proyecto."
   ]
  },
  {
   "cell_type": "code",
   "execution_count": 9,
   "id": "a045f783-73b4-4244-b6c2-ee32bcca8f77",
   "metadata": {},
   "outputs": [
    {
     "name": "stdout",
     "output_type": "stream",
     "text": [
      "CRS Uso Suelo: EPSG:9377\n",
      "0                      ZONA AGRICOLA SOSTENIBLE\n",
      "1                  ZONA INSTITUCIONAL SERVICIOS\n",
      "2         ZONA INSTITUCIONAL 2 DE SERVICIOS ISS\n",
      "3                    PARQUE ACTIVIDAD ECONOMICA\n",
      "4     PLANTA DE TRATAMIENTO DE AGUAS RESIDUALES\n",
      "5      UNIDADES INTEGRALES DE DESARROLLO SOCIAL\n",
      "6                      ZONA AGRICOLA SOSTENIBLE\n",
      "7                          PARQUE METROPOLITANO\n",
      "8                          PROTECCION AMBIENTAL\n",
      "9                          PROTECCION AMBIENTAL\n",
      "10                         PROTECCION AMBIENTAL\n",
      "11                         PROTECCION AMBIENTAL\n",
      "12                                  RESIDENCIAL\n",
      "13                                  RESIDENCIAL\n",
      "14                                  RESIDENCIAL\n",
      "15                                  RESIDENCIAL\n",
      "16                                  RESIDENCIAL\n",
      "17                                  RESIDENCIAL\n",
      "18                       PRESERVACION AMBIENTAL\n",
      "19                       PRESERVACION AMBIENTAL\n",
      "20                       PRESERVACION AMBIENTAL\n",
      "21                       PRESERVACION AMBIENTAL\n",
      "22                                  RESIDENCIAL\n",
      "23                   AREA DE ACTIVIDAD MULTIPLE\n",
      "24                     ZONA AGRICOLA SOSTENIBLE\n",
      "25                     ZONA AGRICOLA SOSTENIBLE\n",
      "26                     ZONA AGRICOLA SOSTENIBLE\n",
      "Name: USO_SUELO, dtype: object\n",
      "CRS Municipio de Soacha: EPSG:9377\n"
     ]
    }
   ],
   "source": [
    "root_folder=r\"/notebooks/Proyecto/Datos\"\n",
    "\n",
    "# Leer todos los datos\n",
    "Suelo = root_folder+r\"/UsoSuelo.shp\"\n",
    "Municipio = root_folder+r\"/Soacha.shp\"\n",
    "\n",
    "# Leer el archivo shapefile del uso del suelo\n",
    "UsoSuelo = gpd.read_file(Suelo)\n",
    "UsoSuelo = UsoSuelo.to_crs(epsg=9377)\n",
    "print(\"CRS Uso Suelo:\", UsoSuelo.crs)\n",
    "print(UsoSuelo[\"USO_SUELO\"])\n",
    "\n",
    "# Leer el archivo shapefile del municipio de Soacha\n",
    "Soacha = gpd.read_file(Municipio)\n",
    "Soacha = Soacha.to_crs(epsg=9377)\n",
    "print(\"CRS Municipio de Soacha:\", Soacha.crs)"
   ]
  },
  {
   "cell_type": "markdown",
   "id": "372dafba-d805-4887-a6f2-719aaf0b1f01",
   "metadata": {},
   "source": [
    "**Reclasificar usos del suelo por exposición**   \n",
    "En la siguiente celda se lleva a cabo la reclasificación para cada uso del suelo de acuerdo a lo siguiente:   \n",
    "* Zonas Agricolas o rurales ---> Baja (1)\n",
    "* Zonas Institucionales o sociales ---> Moderada (2)\n",
    "* Parque actividad economica ---> Alta (3)\n",
    "* Planta de tratamiento de aguas residuales ---> Alta (3)\n",
    "* Parque metropolitano ---> Alta (3)\n",
    "* Protección o preservación ambiental ---> Baja (1)\n",
    "* Residencial ---> Alta (3)\n",
    "* Área de actividad multiple ---> Moderada (2)"
   ]
  },
  {
   "cell_type": "code",
   "execution_count": 10,
   "id": "b777e4e4-190a-4b49-bf3a-9449ea0786c1",
   "metadata": {},
   "outputs": [],
   "source": [
    "# Establecer la reclasificación\n",
    "Reclasificacion = {\"ZONA AGRICOLA SOSTENIBLE\": 1, \n",
    "                   \"ZONA INSTITUCIONAL SERVICIOS\": 2,\n",
    "                   \"ZONA INSTITUCIONAL 2 DE SERVICIOS ISS\": 2,\n",
    "                   \"PARQUE ACTIVIDAD ECONOMICA\": 3,\n",
    "                   \"PLANTA DE TRATAMIENTO DE AGUAS RESIDUALES\": 3,\n",
    "                   \"UNIDADES INTEGRALES DE DESARROLLO SOCIAL\": 2,\n",
    "                   \"PARQUE METROPOLITANO\": 3,\n",
    "                   \"PROTECCION AMBIENTAL\": 1,\n",
    "                   \"RESIDENCIAL\": 3,\n",
    "                   \"PRESERVACION AMBIENTAL\": 1,\n",
    "                   \"AREA DE ACTIVIDAD MULTIPLE\": 2}\n"
   ]
  },
  {
   "cell_type": "code",
   "execution_count": 15,
   "id": "0bf52153-21ce-4f8d-a714-33a8669bf92b",
   "metadata": {},
   "outputs": [
    {
     "name": "stdout",
     "output_type": "stream",
     "text": [
      "                                    USO_SUELO  Clasificación\n",
      "0                    ZONA AGRICOLA SOSTENIBLE              1\n",
      "1                ZONA INSTITUCIONAL SERVICIOS              2\n",
      "2       ZONA INSTITUCIONAL 2 DE SERVICIOS ISS              2\n",
      "3                  PARQUE ACTIVIDAD ECONOMICA              3\n",
      "4   PLANTA DE TRATAMIENTO DE AGUAS RESIDUALES              3\n",
      "5    UNIDADES INTEGRALES DE DESARROLLO SOCIAL              2\n",
      "6                    ZONA AGRICOLA SOSTENIBLE              1\n",
      "7                        PARQUE METROPOLITANO              3\n",
      "8                        PROTECCION AMBIENTAL              1\n",
      "9                        PROTECCION AMBIENTAL              1\n",
      "10                       PROTECCION AMBIENTAL              1\n",
      "11                       PROTECCION AMBIENTAL              1\n",
      "12                                RESIDENCIAL              3\n",
      "13                                RESIDENCIAL              3\n",
      "14                                RESIDENCIAL              3\n",
      "15                                RESIDENCIAL              3\n",
      "16                                RESIDENCIAL              3\n",
      "17                                RESIDENCIAL              3\n",
      "18                     PRESERVACION AMBIENTAL              1\n",
      "19                     PRESERVACION AMBIENTAL              1\n",
      "20                     PRESERVACION AMBIENTAL              1\n",
      "21                     PRESERVACION AMBIENTAL              1\n",
      "22                                RESIDENCIAL              3\n",
      "23                 AREA DE ACTIVIDAD MULTIPLE              2\n",
      "24                   ZONA AGRICOLA SOSTENIBLE              1\n",
      "25                   ZONA AGRICOLA SOSTENIBLE              1\n",
      "26                   ZONA AGRICOLA SOSTENIBLE              1\n"
     ]
    }
   ],
   "source": [
    "# Crear columna con clasificación \n",
    "UsoSuelo[\"Clasificación\"] = UsoSuelo[\"USO_SUELO\"].map(Reclasificacion)\n",
    "print(UsoSuelo[[\"USO_SUELO\", \"Clasificación\"]])"
   ]
  },
  {
   "cell_type": "code",
   "execution_count": 25,
   "id": "e66a4b71-0383-4a26-9d6f-d919e6294f9e",
   "metadata": {},
   "outputs": [],
   "source": [
    "# Rasterizar la capa de uso del suelo\n",
    "# Crear la malla para rasterizar\n",
    "Extension = Soacha.total_bounds\n",
    "res = 100\n",
    "Ancho = int((Extension[2] - Extension[0])/ res)\n",
    "Alto = int((Extension[3] - Extension[1])/ res)\n",
    "transform = from_bounds(*Extension, Ancho, Alto)\n",
    "\n",
    "# Rasterizar\n",
    "shapes = ((geom, value) for geom, value in zip(UsoSuelo.geometry, UsoSuelo[\"Clasificación\"]))\n",
    "Raster = rasterize(shapes=shapes, out_shape=(Alto, Ancho), transform=transform, fill=0, dtype=\"uint8\")\n",
    "\n",
    "# Guardar el raster clasificado\n",
    "with rasterio.open(\n",
    "    \"/notebooks/Proyecto/Calidad_Aire_Soacha/Resultados/Raster/Reclasificados/UsoSuelo_reclass.tif\",\n",
    "    \"w\",\n",
    "    driver = \"GTiff\",\n",
    "    height = Alto,\n",
    "    width = Ancho,\n",
    "    count = 1,\n",
    "    dtype = \"uint8\",\n",
    "    crs = UsoSuelo.crs,\n",
    "    transform = transform,\n",
    ")as dst:\n",
    "    dst.write(Raster, 1)"
   ]
  },
  {
   "cell_type": "code",
   "execution_count": 35,
   "id": "58da3e97-6798-4ac9-ab25-65a11810d239",
   "metadata": {},
   "outputs": [
    {
     "data": {
      "image/png": "[encoded data removed]",
      "text/plain": [
       "<Figure size 800x1000 with 2 Axes>"
      ]
     },
     "metadata": {},
     "output_type": "display_data"
    }
   ],
   "source": [
    "with rasterio.open(\"/notebooks/Proyecto/Calidad_Aire_Soacha/Resultados/Raster/Reclasificados/UsoSuelo_reclass.tif\") as src:\n",
    "    UsoSuelo_reclass = src.read(1)\n",
    "    transform = src.transform\n",
    "\n",
    "colores = [\"green\", \"yellow\", \"red\"]\n",
    "cmap = ListedColormap(colores)\n",
    "\n",
    "plt.figure(figsize=(8, 10))\n",
    "plt.imshow(UsoSuelo_reclass, cmap=cmap, extent=(transform[2], transform[2] + transform[0]*UsoSuelo_reclass.shape[1],\n",
    "                                            transform[5] + transform[4]*UsoSuelo_reclass.shape[0], transform[5]))\n",
    "\n",
    "\n",
    "cbar = plt.colorbar(ticks=[1, 2, 3])\n",
    "cbar.ax.set_yticklabels([\"Baja\", \"Moderada\", \"Alta\"])\n",
    "cbar.set_label(\"Categoría de exposición\")\n",
    "\n",
    "plt.title(\"Exposición de PM2.5 de acuerdo al uso del suelo\")\n",
    "plt.xlabel(\"X\")\n",
    "plt.ylabel(\"Y\")\n",
    "plt.grid(False)\n",
    "plt.savefig(f\"/notebooks/Proyecto/Calidad_Aire_Soacha/Resultados/Exposición_PM25.png\", dpi=300)\n",
    "plt.show()"
   ]
  },
  {
   "cell_type": "code",
   "execution_count": null,
   "id": "61bc1fdc-6766-434f-b144-50e6312b1d27",
   "metadata": {},
   "outputs": [],
   "source": []
  }
 ],
 "metadata": {
  "kernelspec": {
   "display_name": "Python 3 (ipykernel)",
   "language": "python",
   "name": "python3"
  },
  "language_info": {
   "codemirror_mode": {
    "name": "ipython",
    "version": 3
   },
   "file_extension": ".py",
   "mimetype": "text/x-python",
   "name": "python",
   "nbconvert_exporter": "python",
   "pygments_lexer": "ipython3",
   "version": "3.11.9"
  }
 },
 "nbformat": 4,
 "nbformat_minor": 5
}
